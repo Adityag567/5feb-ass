{
 "cells": [
  {
   "cell_type": "code",
   "execution_count": null,
   "id": "9adf723c-9e5f-4839-8fdd-6eaff96e4a32",
   "metadata": {},
   "outputs": [],
   "source": [
    "Q1. Explain Class and Object with respect to Object-Oriented Programming. Give a suitable example."
   ]
  },
  {
   "cell_type": "code",
   "execution_count": null,
   "id": "779b05f4-83e6-41be-9521-e6e6f3dcff46",
   "metadata": {},
   "outputs": [],
   "source": [
    "\"\"\"classification of real world entity but not specific  to real world entity\n",
    "object is real world entity,variable.\"\"\"\n",
    "\n",
    "class test:\n",
    "    pass\n",
    "#it enhance coding and make simple to program    "
   ]
  },
  {
   "cell_type": "code",
   "execution_count": null,
   "id": "b7eba9eb-ae83-43f0-9361-20e19b99a2e1",
   "metadata": {},
   "outputs": [],
   "source": [
    "Q2. Name the four pillars of OOPs."
   ]
  },
  {
   "cell_type": "code",
   "execution_count": null,
   "id": "d522102f-b9dd-4616-980e-9abe02b2d76d",
   "metadata": {},
   "outputs": [],
   "source": [
    "The Four Pillars of Object Oriented Programming\n",
    "Abstraction\n",
    "Encapsulation\n",
    "Inheritance\n",
    "Polymorphism"
   ]
  },
  {
   "cell_type": "code",
   "execution_count": null,
   "id": "5b52cdd0-fece-441d-9b48-802587a9ab58",
   "metadata": {},
   "outputs": [],
   "source": [
    "Q3. Explain why the __init__() function is used. Give a suitable example."
   ]
  },
  {
   "cell_type": "code",
   "execution_count": null,
   "id": "a849c86f-e937-453e-a28b-7f9bfb544796",
   "metadata": {},
   "outputs": [],
   "source": [
    "The python __init__ method is declared within a class and is used to initialize the attributes of an object as soon as the object is formed. \n",
    "While giving the definition for an __init__(self) method, a default parameter, named ‘self’ is always passed in its argument. This self represents\n",
    "the object of the class itself. \n",
    "class name():\n",
    "\n",
    "    def __init__(self):\n",
    "        pass"
   ]
  },
  {
   "cell_type": "code",
   "execution_count": null,
   "id": "bf8cec05-d9b9-4c8a-af65-e83a15a09139",
   "metadata": {},
   "outputs": [],
   "source": [
    "Q4.Q4. Why self is used in OOPs?"
   ]
  },
  {
   "cell_type": "code",
   "execution_count": null,
   "id": "e2dca909-593c-4123-8d21-91f2f68106dc",
   "metadata": {},
   "outputs": [],
   "source": [
    "self is refered as the current instance of the class, and is used to access variables that belongs to the class"
   ]
  },
  {
   "cell_type": "code",
   "execution_count": null,
   "id": "b7f33f58-9ca8-4dd9-9350-224a8d58005b",
   "metadata": {},
   "outputs": [],
   "source": [
    "Q5. What is inheritance? Give an example for each type of inheritance."
   ]
  },
  {
   "cell_type": "code",
   "execution_count": 1,
   "id": "ac43c2fc-96d5-4c14-8bca-701a6c299fdd",
   "metadata": {},
   "outputs": [
    {
     "ename": "SyntaxError",
     "evalue": "invalid decimal literal (2195806022.py, line 2)",
     "output_type": "error",
     "traceback": [
      "\u001b[1;36m  Cell \u001b[1;32mIn[1], line 2\u001b[1;36m\u001b[0m\n\u001b[1;33m    1.single\u001b[0m\n\u001b[1;37m     ^\u001b[0m\n\u001b[1;31mSyntaxError\u001b[0m\u001b[1;31m:\u001b[0m invalid decimal literal\n"
     ]
    }
   ],
   "source": [
    "there are 3 types of inheritance \n",
    "1.single\n",
    "class p:\n",
    "    def fun(self):\n",
    "        print(\"this is function\")\n",
    "\n",
    "class semi(p):\n",
    "    def fun2(self):\n",
    "        print(\"this func\")\n",
    "2.multiple\n",
    "class mother:\n",
    "    moth_name=\"\"\n",
    "\n",
    "    def mother(self):\n",
    "        print(self.moth_name)\n",
    "\n",
    "class father:\n",
    "    fathername=\"\"\n",
    "\n",
    "     def father(self):\n",
    "        print(self.fathername)\n",
    "\n",
    "class son(mother,father):\n",
    "    def parents(self):\n",
    "        print(self.father)\n",
    "        print(self.mother)\n",
    "3.multilevel\n",
    "\n",
    "class cls1:\n",
    "    def test(self):\n",
    "        return \"this is cls1\"\n",
    "    \n",
    "class cls2(cls1):\n",
    "    def test2(self):\n",
    "        return \"this is from cls2\"\n",
    "\n",
    "class cls3(cls2):\n",
    "    pass"
   ]
  },
  {
   "cell_type": "code",
   "execution_count": null,
   "id": "77f542c2-6a79-4c51-94ae-d1a8461c866c",
   "metadata": {},
   "outputs": [],
   "source": []
  }
 ],
 "metadata": {
  "kernelspec": {
   "display_name": "Python 3 (ipykernel)",
   "language": "python",
   "name": "python3"
  },
  "language_info": {
   "codemirror_mode": {
    "name": "ipython",
    "version": 3
   },
   "file_extension": ".py",
   "mimetype": "text/x-python",
   "name": "python",
   "nbconvert_exporter": "python",
   "pygments_lexer": "ipython3",
   "version": "3.10.8"
  }
 },
 "nbformat": 4,
 "nbformat_minor": 5
}
